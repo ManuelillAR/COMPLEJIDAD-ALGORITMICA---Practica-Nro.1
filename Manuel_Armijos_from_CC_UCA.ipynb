{
  "nbformat": 4,
  "nbformat_minor": 0,
  "metadata": {
    "colab": {
      "name": "Manuel Armijos from CC-UCA.ipynb",
      "provenance": [],
      "include_colab_link": true
    },
    "kernelspec": {
      "name": "python3",
      "display_name": "Python 3"
    },
    "language_info": {
      "name": "python"
    }
  },
  "cells": [
    {
      "cell_type": "markdown",
      "metadata": {
        "id": "view-in-github",
        "colab_type": "text"
      },
      "source": [
        "<a href=\"https://colab.research.google.com/github/ManuelillAR/COMPLEJIDAD-ALGORITMICA---Practica-Nro.1/blob/main/Manuel_Armijos_from_CC_UCA.ipynb\" target=\"_parent\"><img src=\"https://colab.research.google.com/assets/colab-badge.svg\" alt=\"Open In Colab\"/></a>"
      ]
    },
    {
      "cell_type": "markdown",
      "source": [
        "# **Complejidad Computacional**\n",
        "\n",
        "Unidad: Complejidad Algorítmica\n",
        "\n",
        "Nombre del Estudiante: Manuel Armijos\n"
      ],
      "metadata": {
        "id": "bg7Pr0xIGZuh"
      }
    },
    {
      "cell_type": "markdown",
      "source": [
        "Algoritmo 1:"
      ],
      "metadata": {
        "id": "2V6_xTeRHnVD"
      }
    },
    {
      "cell_type": "code",
      "source": [
        "def fact(n):\n",
        "    product = 1\n",
        "    for i in range(n):\n",
        "        product = product * (i+1)\n",
        "    return product\n",
        "\n",
        "print (fact(5))"
      ],
      "metadata": {
        "id": "F1FGuL7THe1P"
      },
      "execution_count": null,
      "outputs": []
    },
    {
      "cell_type": "markdown",
      "source": [
        "Algoritmo 2:"
      ],
      "metadata": {
        "id": "_j9isgw2HrMc"
      }
    },
    {
      "cell_type": "code",
      "source": [
        "def fact2(n):\n",
        "    if n == 0:\n",
        "        return 1\n",
        "    else:\n",
        "        return n * fact2(n-1)\n",
        "\n",
        "print (fact2(5))"
      ],
      "metadata": {
        "id": "7ezj3DJ3HtcR"
      },
      "execution_count": null,
      "outputs": []
    },
    {
      "cell_type": "markdown",
      "source": [
        "Tiempo de ejecución de los algoritmos:"
      ],
      "metadata": {
        "id": "J4lMldv-JrDs"
      }
    },
    {
      "cell_type": "code",
      "source": [
        "#Algoritmo 1\n",
        "%timeit fact(500)"
      ],
      "metadata": {
        "id": "653gHsDVJvMP"
      },
      "execution_count": null,
      "outputs": []
    },
    {
      "cell_type": "code",
      "source": [
        "\n",
        "#Algoritmo 2\n",
        "%timeit fact2(500)"
      ],
      "metadata": {
        "id": "8dczON2kJ-5Q"
      },
      "execution_count": null,
      "outputs": []
    },
    {
      "cell_type": "markdown",
      "source": [
        "Complejidad Constante:"
      ],
      "metadata": {
        "id": "JhvlASZGLzoi"
      }
    },
    {
      "cell_type": "code",
      "source": [
        "def constant_algo(items):\n",
        "    result = items[0] * items[0]\n",
        "    print (result)\n",
        "\n",
        "constant_algo([4, 5, 6, 8])"
      ],
      "metadata": {
        "id": "8OqhzUbTL2Ly"
      },
      "execution_count": null,
      "outputs": []
    },
    {
      "cell_type": "code",
      "source": [
        "import matplotlib.pyplot as plt\n",
        "import numpy as np\n",
        "\n",
        "x = [2, 4, 6, 8, 10, 12]\n",
        "\n",
        "y = [2, 2, 2, 2, 2, 2]\n",
        "\n",
        "plt.plot(x, y, 'b')\n",
        "plt.xlabel('Entradas')\n",
        "plt.ylabel('Pasos')\n",
        "plt.title('Complejidad Constante')\n",
        "plt.show()"
      ],
      "metadata": {
        "id": "_0ud7HPWMf5y"
      },
      "execution_count": null,
      "outputs": []
    },
    {
      "cell_type": "markdown",
      "source": [
        "Complejidad Lineal:"
      ],
      "metadata": {
        "id": "nghTsN-wM7KN"
      }
    },
    {
      "cell_type": "code",
      "source": [
        "def linear_algo(items):\n",
        "    for item in items:\n",
        "        print(item)\n",
        "\n",
        "linear_algo([4, 5, 6, 8])"
      ],
      "metadata": {
        "id": "lNBH1237NHOo"
      },
      "execution_count": null,
      "outputs": []
    },
    {
      "cell_type": "code",
      "source": [
        "import matplotlib.pyplot as plt\n",
        "import numpy as np\n",
        "\n",
        "x = [2, 4, 6, 8, 10, 12]\n",
        "\n",
        "y = [2, 4, 6, 8, 10, 12]\n",
        "\n",
        "plt.plot(x, y, 'b')\n",
        "plt.xlabel('Entradas')\n",
        "plt.ylabel('Pasos')\n",
        "plt.title('Complejidad Lineal')\n",
        "plt.show()"
      ],
      "metadata": {
        "id": "_AlUCPutNPyB"
      },
      "execution_count": null,
      "outputs": []
    },
    {
      "cell_type": "code",
      "source": [
        "def linear_algo(items):\n",
        "    for item in items:\n",
        "        print(item)\n",
        "\n",
        "    for item in items:\n",
        "        print(item)\n",
        "\n",
        "linear_algo([4, 5, 6, 8])"
      ],
      "metadata": {
        "id": "2TgjHQhzNhTj"
      },
      "execution_count": null,
      "outputs": []
    },
    {
      "cell_type": "code",
      "source": [
        "import matplotlib.pyplot as plt\n",
        "import numpy as np\n",
        "\n",
        "x = [2, 4, 6, 8, 10, 12]\n",
        "\n",
        "y = [4, 8, 12, 16, 20, 24]\n",
        "\n",
        "plt.plot(x, y, 'b')\n",
        "plt.xlabel('Entradas')\n",
        "plt.ylabel('Pasos')\n",
        "plt.title('Complejidad Lineal')\n",
        "plt.show()"
      ],
      "metadata": {
        "colab": {
          "base_uri": "https://localhost:8080/",
          "height": 295
        },
        "id": "liJPVeTVNr2d",
        "outputId": "04a68a58-de98-4693-ef24-8bc41b4f9577"
      },
      "execution_count": null,
      "outputs": [
        {
          "output_type": "display_data",
          "data": {
            "image/png": "[encoded data removed]",
            "text/plain": [
              "<Figure size 432x288 with 1 Axes>"
            ]
          },
          "metadata": {
            "needs_background": "light"
          }
        }
      ]
    },
    {
      "cell_type": "markdown",
      "source": [
        "Complejidad Cuadrática:"
      ],
      "metadata": {
        "id": "LVUKDf68N87q"
      }
    },
    {
      "cell_type": "code",
      "source": [
        "def quadratic_algo(items):\n",
        "    for item in items:\n",
        "        for item2 in items:\n",
        "            print(item, ' ' ,item)\n",
        "\n",
        "quadratic_algo([4, 5, 6, 8])"
      ],
      "metadata": {
        "id": "2A8n1gS8OAbb"
      },
      "execution_count": null,
      "outputs": []
    },
    {
      "cell_type": "markdown",
      "source": [
        "Complejidad de funciones complejas"
      ],
      "metadata": {
        "id": "RnSy2tFHOc0e"
      }
    },
    {
      "cell_type": "code",
      "source": [
        "def complex_algo(items):\n",
        "\n",
        "    for i in range(5):\n",
        "        print (\"Python es fenomenal\")\n",
        "\n",
        "    for item in items:\n",
        "        print(item)\n",
        "\n",
        "    for item in items:\n",
        "        print(item)\n",
        "\n",
        "    print(\"Big O\")\n",
        "    print(\"Big O\")\n",
        "    print(\"Big O\")\n",
        "\n",
        "complex_algo([4, 5, 6, 8])"
      ],
      "metadata": {
        "id": "GkHtnXzPOaGL"
      },
      "execution_count": null,
      "outputs": []
    },
    {
      "cell_type": "markdown",
      "source": [
        "O(8) + O(2n) => O(8) + O(n)"
      ],
      "metadata": {
        "id": "uuJVRLCxPL-o"
      }
    },
    {
      "cell_type": "markdown",
      "source": [
        "Peor vs mejor complejidad de caso"
      ],
      "metadata": {
        "id": "nx1PjpaJPYps"
      }
    },
    {
      "cell_type": "code",
      "source": [
        "def search_algo(num, items):\n",
        "    for item in items:\n",
        "        if item == num:\n",
        "            return True\n",
        "        else:\n",
        "            return False\n",
        "nums = [2,4,6,8,10]\n",
        "\n",
        "print(search_algo(6, nums))"
      ],
      "metadata": {
        "id": "7ckEJEbFPhsr"
      },
      "execution_count": null,
      "outputs": []
    },
    {
      "cell_type": "markdown",
      "source": [
        "Complejidad Espacial:"
      ],
      "metadata": {
        "id": "ufl7GmqyQdm0"
      }
    },
    {
      "cell_type": "code",
      "source": [
        "def return_squares(n):\n",
        "    square_list = []\n",
        "    for num in n:\n",
        "        square_list.append(num * num)\n",
        "\n",
        "    return square_list\n",
        "\n",
        "nums = [2, 4, 6, 8, 10]\n",
        "print(return_squares(nums))"
      ],
      "metadata": {
        "id": "CuJx6L5uQhHT"
      },
      "execution_count": null,
      "outputs": []
    }
  ]
}